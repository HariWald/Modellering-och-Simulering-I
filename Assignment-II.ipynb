{
 "cells": [
  {
   "cell_type": "markdown",
   "id": "1f7cdfc9",
   "metadata": {},
   "source": [
    "1. True or False\n",
    "\n",
    "i = 0, a = 3.5, b = -1.3, c = 3.14\n",
    "a) i == 0 True (i is equal to 0)\n",
    "b) i != 0 False (i is not not equal to 0)\n",
    "c) i >= i True (i is bigger than or equal to i)\n",
    "d) a == b False (a is 3.5 and b is -1.3, they are not equal)\n",
    "e) a <= b False (3.5 is not smaller than -1.3)\n",
    "f) c >= a/b True (b is negative, so a/b is negative and smaller than c, which is 3.14)\n",
    "g) c/a <= b False (c/a is positive, b is negative)"
   ]
  },
  {
   "cell_type": "code",
   "execution_count": 5,
   "id": "ef40f2fb",
   "metadata": {},
   "outputs": [
    {
     "name": "stdout",
     "output_type": "stream",
     "text": [
      "True\n",
      "False\n",
      "True\n",
      "False\n",
      "False\n",
      "True\n",
      "False\n"
     ]
    }
   ],
   "source": [
    "i = 0\n",
    "a = 3.5\n",
    "b = -1.3\n",
    "c = 3.14\n",
    "\n",
    "print(i==0)\n",
    "print(i!=0)\n",
    "print(i>=i)\n",
    "print(a==b)\n",
    "print(a<=b)\n",
    "print(c >= a/b)\n",
    "print(c/a <= b)"
   ]
  },
  {
   "cell_type": "markdown",
   "id": "128732c6",
   "metadata": {},
   "source": [
    "2. True or False\n",
    "\n",
    "x = -3, y = 4, z = 5\n",
    "a) x+y < 0 or x-y < 0: True (x-y = -3-4 = -7, which is smaller than 0)\n",
    "b) x+y < 0 or not x-y < 0: False (x-y<0 is True, so not x-y<0 is False. x+y<0 is False)\n",
    "c) x+y < 0 and x-y < 0: False (Both are not true, only the last statement)\n",
    "d) (z > 0 and z < 6) or x < -4: True (0 < z=5 < 6 is True)\n",
    "e) (y > -3 and y <= 3) or x < -4: False (y is not <=3, so the first stement is False, as well as the second)\n",
    "f) (x+z >0 and x+y <2) and z!=0: True (All partial statements are true)"
   ]
  },
  {
   "cell_type": "code",
   "execution_count": 7,
   "id": "a199d771",
   "metadata": {},
   "outputs": [
    {
     "name": "stdout",
     "output_type": "stream",
     "text": [
      "True\n",
      "False\n",
      "False\n",
      "True\n",
      "False\n",
      "True\n"
     ]
    }
   ],
   "source": [
    "x = -3\n",
    "y = 4\n",
    "z = 5\n",
    "print(x+y < 0 or x-y < 0)\n",
    "print(x+y < 0 or not x-y < 0)\n",
    "print(x+y < 0 and x-y < 0)\n",
    "print((z > 0 and z < 6) or x < -4)\n",
    "print((y > -3 and y <= 3) or x < -4)\n",
    "print((x+z >0 and x+y <2) and z!=0)"
   ]
  },
  {
   "cell_type": "markdown",
   "id": "4e403d0a",
   "metadata": {},
   "source": [
    "3. Flow charts I\n",
    "a) A=7, B=3: C = 3\n",
    "b) A=5,B=9: C = 5"
   ]
  },
  {
   "cell_type": "code",
   "execution_count": 23,
   "id": "f50a96af",
   "metadata": {},
   "outputs": [
    {
     "name": "stdout",
     "output_type": "stream",
     "text": [
      "Give A and B:4,5\n",
      "C = 4\n"
     ]
    }
   ],
   "source": [
    "A,B = input('Give A and B: ').split(\",\") # Takes A and B, separated by commas\n",
    "if(A>B):\n",
    "    C = B\n",
    "else:\n",
    "    C = A\n",
    "print('C = '+C)"
   ]
  },
  {
   "cell_type": "markdown",
   "id": "bbd19f78",
   "metadata": {},
   "source": [
    "4. Flow charts II\n",
    "a) T = -3: P = 0\n",
    "b) T = 2: P = 2T = 4\n",
    "c) T = 1: P = 1"
   ]
  },
  {
   "cell_type": "code",
   "execution_count": 29,
   "id": "66266fc7",
   "metadata": {},
   "outputs": [
    {
     "name": "stdout",
     "output_type": "stream",
     "text": [
      "Give T: 1\n",
      "P =  1\n"
     ]
    }
   ],
   "source": [
    "T = int(input('Give T: ')) # Takes A and B, separated by commas\n",
    "if(T<-2):\n",
    "    P = 0\n",
    "elif(0<T<2):\n",
    "    P = T\n",
    "else:\n",
    "    P = 2*T\n",
    "print('P = ',P)"
   ]
  },
  {
   "cell_type": "markdown",
   "id": "90bce602",
   "metadata": {},
   "source": [
    "5. Make a program that divides a by b unles b is zero"
   ]
  },
  {
   "cell_type": "code",
   "execution_count": 37,
   "id": "3cc3ced5",
   "metadata": {},
   "outputs": [
    {
     "name": "stdout",
     "output_type": "stream",
     "text": [
      "Give A and B: 4,0\n",
      "Division by zero not allowed\n"
     ]
    }
   ],
   "source": [
    "a,b = input('Give A and B: ').split(\",\") # Takes A and B, separated by commas\n",
    "a,b = int(a),int(b) # Make them into integers. Not sure how to do it in one line\n",
    "if(b==0):\n",
    "    print('Division by zero not allowed')\n",
    "else:\n",
    "    print(a/b)"
   ]
  },
  {
   "cell_type": "markdown",
   "id": "3063f351",
   "metadata": {},
   "source": [
    "6. A prgram that takes three numbers and outputs the largest one"
   ]
  },
  {
   "cell_type": "code",
   "execution_count": 39,
   "id": "d53a2a32",
   "metadata": {},
   "outputs": [
    {
     "name": "stdout",
     "output_type": "stream",
     "text": [
      "Give a, b and c: 4,7,1\n",
      "Max value:  7\n"
     ]
    }
   ],
   "source": [
    "import numpy as np\n",
    "\n",
    "abc = np.array(input('Give a, b and c: ').split(\",\"),dtype=\"int\") # Takes a, b and c, separated by commas\n",
    "print('Max value: ',np.max(abc))"
   ]
  },
  {
   "cell_type": "code",
   "execution_count": 41,
   "id": "7ac7d0d7",
   "metadata": {},
   "outputs": [
    {
     "name": "stdout",
     "output_type": "stream",
     "text": [
      "Give a, b and c: 3,5,1\n",
      "Min value:  1\n"
     ]
    }
   ],
   "source": [
    "# 7. \n",
    "abc = np.array(input('Give a, b and c: ').split(\",\"),dtype=\"int\") # Takes a, b and c, separated by commas\n",
    "print('Min value: ',np.min(abc))"
   ]
  },
  {
   "cell_type": "markdown",
   "id": "f08cafc2",
   "metadata": {},
   "source": [
    "8. Make a function that outputs a rectangular pulse"
   ]
  },
  {
   "cell_type": "code",
   "execution_count": 45,
   "id": "c5d4bbfc",
   "metadata": {},
   "outputs": [
    {
     "name": "stdout",
     "output_type": "stream",
     "text": [
      "Give x: 0.2\n",
      "y =  1\n"
     ]
    }
   ],
   "source": [
    "x = float(input('Give x: '))\n",
    "if(x <= 0):\n",
    "    y = 0\n",
    "elif(0<x<=1):\n",
    "    y=1\n",
    "elif(x>1):\n",
    "    y=0\n",
    "print('y = ',y)"
   ]
  },
  {
   "cell_type": "markdown",
   "id": "59c2366a",
   "metadata": {},
   "source": [
    "9. Trigoometric function"
   ]
  },
  {
   "cell_type": "code",
   "execution_count": 62,
   "id": "9b7adfc3",
   "metadata": {},
   "outputs": [
    {
     "name": "stdout",
     "output_type": "stream",
     "text": [
      "Give x and y: -2,-2\n",
      "Theta:  -2.356194490192345\n"
     ]
    }
   ],
   "source": [
    "x,y = input('Give x and y: ').split(\",\") # Takes x and y, separated by commas\n",
    "x,y = float(x),float(y) # Make them into floats\n",
    "if(x==0):\n",
    "    if(y>0):\n",
    "        theta = np.pi/2\n",
    "    elif(y<0):\n",
    "        theta = -np.pi/2\n",
    "elif(x>0):\n",
    "    theta = np.arctan(y/x)\n",
    "elif(x<0):\n",
    "    frac =y/x\n",
    "    if(y>=0):\n",
    "        theta = np.arctan(y/x)+np.pi\n",
    "    elif(y<0):\n",
    "        theta = np.arctan(y/x)-np.pi\n",
    "print('Theta: ',theta)"
   ]
  },
  {
   "cell_type": "markdown",
   "id": "64e7eeab",
   "metadata": {},
   "source": [
    "10. A program that takes a number between 1 and 6 and tells if it's odd or even"
   ]
  },
  {
   "cell_type": "code",
   "execution_count": 66,
   "id": "60c4d9bf",
   "metadata": {},
   "outputs": [
    {
     "name": "stdout",
     "output_type": "stream",
     "text": [
      "Dice roll: 7\n",
      "Wrong dice\n"
     ]
    }
   ],
   "source": [
    "n = int(input(\"Dice roll: \")) # The number from the dice\n",
    "if(1<=n<=6): # First check if it is a possible number for a (cubic) dice\n",
    "    if(n%2 == 0):\n",
    "        print('even')\n",
    "    elif(n%2!=0):\n",
    "        print('odd')\n",
    "else: # else print that the number is wrong\n",
    "    print('Wrong dice')"
   ]
  },
  {
   "cell_type": "markdown",
   "id": "7cb837a6",
   "metadata": {},
   "source": [
    "11. A program with a while loop that will calculate a term as long as the tollerance isn't exceeded.\n",
    "\n",
    "s and n start at 0, while terms is 1. Tollerance is 0.05, as long as term is larger than tollerance the loop keeps running.\n",
    "Below is a number of terms that would be claculated during this scheme:\n",
    "\n",
    "\\begin{array}{|c|c|c|}\n",
    "\\hline\n",
    "n & s & term \\\\ \\hline\n",
    "0 & 0 & 1 \\\\ \\hline\n",
    "1 & 1 & 1/2 \\\\ \\hline\n",
    "2 & 1.5 & 1/5 \\\\ \\hline\n",
    "3 & 1.7 & 1/10 \\\\ \\hline\n",
    "4 & 1.8 & 1/16 = 0.0625 \\\\ \\hline\n",
    "5 & 1.8625 & 1/26 = 0.038 < 0.05 \\\\ \\hline\n",
    "\\end{array}"
   ]
  },
  {
   "cell_type": "code",
   "execution_count": 69,
   "id": "0beedb29",
   "metadata": {},
   "outputs": [
    {
     "name": "stdout",
     "output_type": "stream",
     "text": [
      "s is:  1.8588235294117648\n"
     ]
    }
   ],
   "source": [
    "tol = 0.05 # Tolerance\n",
    "# STarting values for the terms:\n",
    "s = 0\n",
    "n = 0\n",
    "term = 1/(n**2+1)\n",
    "\n",
    "while(term > tol):\n",
    "    s = s + term\n",
    "    n = n + 1\n",
    "    term = 1/(n**2+1)\n",
    "print('s is: ',s)"
   ]
  },
  {
   "cell_type": "markdown",
   "id": "f84ccde3",
   "metadata": {},
   "source": [
    "12. Euclids algorithm\n",
    "\n",
    "a) A = 84, B = 69\n",
    "A larger than B: s = A, t = B\n",
    "r = s%t = 84%69 = 15\n",
    "s = t = B, t = r = 15, r = 69%15 = 9\n",
    "s = t = 15, t = r = 9, r = 15%9 = 6\n",
    "s = t = 9, t = r = 6, r = 9%6 = 3\n",
    "s = t = 6, t = r = 3, r = 6%3 = 0\n",
    "\n",
    "t = 3 is the divisor\n",
    "\n"
   ]
  },
  {
   "cell_type": "code",
   "execution_count": 74,
   "id": "5f03c4e4",
   "metadata": {},
   "outputs": [
    {
     "name": "stdout",
     "output_type": "stream",
     "text": [
      "Give A and B: 24,16\n",
      "The divisor is  8\n"
     ]
    }
   ],
   "source": [
    "A,B = input('Give A and B: ').split(\",\") # Takes A and B, separated by commas\n",
    "A,B = float(A),float(B) # Make them into floats\n",
    "\n",
    "# chose s and t so that s is larger than t:\n",
    "if(A>B):\n",
    "    s,t = A,B\n",
    "elif(A<B):\n",
    "    s,t = B,A\n",
    "# Calculate the remainder:\n",
    "r = s%t\n",
    "\n",
    "# Run the loop until the remainder is zero:\n",
    "while(r>0):\n",
    "    s = t\n",
    "    t = r\n",
    "    r = s%t\n",
    "print('The divisor is ',int(t))\n"
   ]
  },
  {
   "cell_type": "markdown",
   "id": "1b51c89f",
   "metadata": {},
   "source": [
    "13. McLaurin expansion"
   ]
  },
  {
   "cell_type": "code",
   "execution_count": 89,
   "id": "a4ba7a51",
   "metadata": {},
   "outputs": [
    {
     "name": "stdout",
     "output_type": "stream",
     "text": [
      "0 0 1.0\n",
      "Sum is: 1.785397663397544\n",
      "Pi/4:  0.7853981633974483\n"
     ]
    }
   ],
   "source": [
    "# Start by giving the starting values and the first term:\n",
    "s = 0\n",
    "i = 0\n",
    "term = (-1)**i/(2*i+1)\n",
    "\n",
    "# Now let the loop run while the absolute of the terms are above 1e-6:\n",
    "while(abs(term)>1e-6):\n",
    "    s = s + term\n",
    "    term = (-1)**i/(2*i+1)\n",
    "    i = i +1\n",
    "print('Sum is:',s)\n",
    "print('Pi/4: ',np.pi/4)"
   ]
  },
  {
   "cell_type": "markdown",
   "id": "9c44ebb6",
   "metadata": {},
   "source": [
    "14. Fibonacci"
   ]
  },
  {
   "cell_type": "code",
   "execution_count": 95,
   "id": "a3038d01",
   "metadata": {},
   "outputs": [
    {
     "name": "stdout",
     "output_type": "stream",
     "text": [
      "k:  27 , f:  121393\n"
     ]
    }
   ],
   "source": [
    "# Starting conditions: the second fibonacci number is given by 1 = 1 + 0\n",
    "k = 2\n",
    "f1 = 0\n",
    "f2 = 1\n",
    "f = 1\n",
    "\n",
    "# Now loop up through the numbers and stop when f has reached 100000\n",
    "while(f<=100000):\n",
    "    f = f2 + f1\n",
    "    f1 = f2\n",
    "    f2 = f\n",
    "    k += 1\n",
    "print('k: ',k,', f: ',f)"
   ]
  },
  {
   "cell_type": "markdown",
   "id": "673c4ce7",
   "metadata": {},
   "source": [
    "15. Flow charts\n",
    "a) \n",
    "\n",
    "\\begin{array}{|c|c|c|}\n",
    "\\hline\n",
    "i & term & s \\\\ \\hline\n",
    "1 & 1 & 1 \\\\ \\hline\n",
    "2 & \\sqrt{2} & 1+\\sqrt{2} \\\\ \\hline\n",
    "3 & \\sqrt{3} & 1+\\sqrt{2}+\\sqrt{3} \\\\ \\hline\n",
    "\\end{array}"
   ]
  },
  {
   "cell_type": "code",
   "execution_count": 97,
   "id": "b683ee8f",
   "metadata": {},
   "outputs": [
    {
     "name": "stdout",
     "output_type": "stream",
     "text": [
      "s =  4.146264369941973\n",
      "1 + rt2 + rt3 =  4.146264369941973\n"
     ]
    }
   ],
   "source": [
    "s = 0\n",
    "ilist = [1,2,3]\n",
    "\n",
    "for i in ilist:\n",
    "    term = i**(1/2)\n",
    "    s += term\n",
    "    \n",
    "print('s = ',s)\n",
    "print('1 + rt2 + rt3 = ',1+np.sqrt(2)+np.sqrt(3))"
   ]
  },
  {
   "cell_type": "markdown",
   "id": "301f8386",
   "metadata": {},
   "source": [
    "16. Flow charts\n",
    "\n",
    "\\begin{array}{|c|c|c|}\n",
    "\\hline\n",
    "i & x & y \\\\ \\hline\n",
    "1 & 3 & 3 \\\\ \\hline\n",
    "2 & 6 & 18 \\\\ \\hline\n",
    "3 & 24 & 432 \\\\ \\hline\n",
    "4 & 456 & 196992 \\\\ \\hline\n",
    "\\end{array}"
   ]
  },
  {
   "cell_type": "code",
   "execution_count": 98,
   "id": "b9f872b6",
   "metadata": {},
   "outputs": [
    {
     "name": "stdout",
     "output_type": "stream",
     "text": [
      "x,y =  456 196992\n"
     ]
    }
   ],
   "source": [
    "x,y = 2,1\n",
    "ilist = [1,2,3,4]\n",
    "\n",
    "for i in ilist:\n",
    "    x = x+y\n",
    "    y = x*y\n",
    "    \n",
    "print('x,y = ',x,y)"
   ]
  },
  {
   "cell_type": "markdown",
   "id": "2980cb6a",
   "metadata": {},
   "source": [
    "17. Polygon, calculating the area off."
   ]
  },
  {
   "cell_type": "code",
   "execution_count": 11,
   "id": "d47da0a5",
   "metadata": {},
   "outputs": [
    {
     "name": "stdout",
     "output_type": "stream",
     "text": [
      "Give x: -1,1,0,-1\n",
      "Give x: 0,0,5,0\n",
      "Area: 5.0\n"
     ]
    },
    {
     "data": {
      "image/png": "[encoded data removed]",
      "text/plain": [
       "<Figure size 432x288 with 1 Axes>"
      ]
     },
     "metadata": {
      "needs_background": "light"
     },
     "output_type": "display_data"
    }
   ],
   "source": [
    "import numpy as np\n",
    "import matplotlib.pyplot as plt\n",
    "\n",
    "x = list(map(float,input('Give x: ').split(\",\"))) # the first vector\n",
    "x = np.array(x)\n",
    "y = list(map(float,input('Give x: ').split(\",\")))\n",
    "y = np.array(y)\n",
    "\n",
    "n = len(x)\n",
    "s = 0\n",
    "for i in range(n-1):\n",
    "    s += x[i]*y[i+1]-x[i+1]*y[i]\n",
    "A = 1/2*np.abs(s)\n",
    "\n",
    "print('Area:',A)\n",
    "\n",
    "fig,ax = plt.subplots();\n",
    "ax.plot(x,y,'-');\n",
    "ax.axis('equal');"
   ]
  },
  {
   "cell_type": "markdown",
   "id": "ab02d478",
   "metadata": {},
   "source": [
    "18. Temperature matrix"
   ]
  },
  {
   "cell_type": "code",
   "execution_count": 133,
   "id": "6ac0bdca",
   "metadata": {},
   "outputs": [
    {
     "name": "stdout",
     "output_type": "stream",
     "text": [
      "[33. 10. 21. 74. 58. 57. 76. 88. 70. 52. 44. 46. 90. 68. 82. 39. 18. 17.\n",
      " 41. 26. 56. 37. 43.]\n",
      "Average cold days:  49.82608695652174\n",
      "[192. 215. 198. 144. 158. 154. 148. 135. 139. 163. 169. 151. 121. 163.\n",
      " 145. 169. 186. 181. 185. 198. 159. 184. 164.]\n",
      "Average days between 0 and 10:  166.1304347826087\n"
     ]
    }
   ],
   "source": [
    "\n",
    "T = np.loadtxt('Data/T.txt')\n",
    "# Actually, the array has shape 23 x 365 \n",
    "Trsh = np.reshape(T,(23,365))\n",
    "\n",
    "# preallocate space for the storage of the number of days:\n",
    "dblz = np.zeros(23) # below zero\n",
    "dzt = np.zeros(23) # between zero and ten\n",
    "\n",
    "for i in range(23): # Go though the years\n",
    "    for j in range(365): # Go through the days\n",
    "        if(Trsh[i,j] < 0):\n",
    "            dblz[i] += 1\n",
    "        elif(0<Trsh[i,j]<10):\n",
    "            dzt[i] += 1\n",
    "print(dblz)\n",
    "print('Average cold days: ',np.average(dblz))\n",
    "print(dzt)\n",
    "print('Average days between 0 and 10: ',np.average(dzt))"
   ]
  },
  {
   "cell_type": "markdown",
   "id": "cbe237d8",
   "metadata": {},
   "source": [
    "19. Matrix making"
   ]
  },
  {
   "cell_type": "code",
   "execution_count": 134,
   "id": "6f3a619d",
   "metadata": {},
   "outputs": [
    {
     "name": "stdout",
     "output_type": "stream",
     "text": [
      "[[1.000e+00 1.000e+00 1.000e+00 1.000e+00 1.000e+00 1.000e+00]\n",
      " [1.000e+00 2.000e+00 4.000e+00 8.000e+00 1.600e+01 3.200e+01]\n",
      " [1.000e+00 3.000e+00 9.000e+00 2.700e+01 8.100e+01 2.430e+02]\n",
      " [1.000e+00 4.000e+00 1.600e+01 6.400e+01 2.560e+02 1.024e+03]\n",
      " [1.000e+00 5.000e+00 2.500e+01 1.250e+02 6.250e+02 3.125e+03]\n",
      " [1.000e+00 6.000e+00 3.600e+01 2.160e+02 1.296e+03 7.776e+03]]\n"
     ]
    }
   ],
   "source": [
    "A = np.zeros((6,6))\n",
    "\n",
    "for i in range(6):\n",
    "    for j in range(6):\n",
    "        A[i,j] = (i+1)**j\n",
    "print(A)"
   ]
  },
  {
   "cell_type": "markdown",
   "id": "5e129ddc",
   "metadata": {},
   "source": [
    "20. Summing in matrixes\n",
    "Here, I wanted to use the diag function of numpy. It would also be possible to loop through the rows or columns."
   ]
  },
  {
   "cell_type": "code",
   "execution_count": 140,
   "id": "e22a330b",
   "metadata": {},
   "outputs": [
    {
     "name": "stdout",
     "output_type": "stream",
     "text": [
      "[[1. 1. 1. 1. 1. 1. 1. 1. 1. 1.]\n",
      " [1. 1. 1. 1. 1. 1. 1. 1. 1. 1.]\n",
      " [1. 1. 1. 1. 1. 1. 1. 1. 1. 1.]\n",
      " [1. 1. 1. 1. 1. 1. 1. 1. 1. 1.]\n",
      " [1. 1. 1. 1. 1. 1. 1. 1. 1. 1.]\n",
      " [1. 1. 1. 1. 1. 1. 1. 1. 1. 1.]\n",
      " [1. 1. 1. 1. 1. 1. 1. 1. 1. 1.]\n",
      " [1. 1. 1. 1. 1. 1. 1. 1. 1. 1.]\n",
      " [1. 1. 1. 1. 1. 1. 1. 1. 1. 1.]\n",
      " [1. 1. 1. 1. 1. 1. 1. 1. 1. 1.]]\n",
      "28.0\n",
      "28.0\n"
     ]
    }
   ],
   "source": [
    "A = np.ones((10,10))\n",
    "print(A)\n",
    "\n",
    "S = (sum(np.diag(A,-1))+\n",
    "     sum(np.diag(A, 0))+\n",
    "     sum(np.diag(A, 1)))\n",
    "\n",
    "print(S)\n",
    "\n",
    "s = 0\n",
    "for i in range(np.shape(A)[0]):\n",
    "    s += A[i,i]\n",
    "    if(i>0):\n",
    "        s += A[i-1,i]\n",
    "    if(i<np.shape(A)[0]-1):\n",
    "        s += A[i+1,i]\n",
    "\n",
    "print(s)"
   ]
  },
  {
   "cell_type": "markdown",
   "id": "332e8d40",
   "metadata": {},
   "source": [
    "21. Looping over submatrixes\n",
    "loop 1 - a\n",
    "loop 2 - c\n",
    "loop 3 - e\n",
    "loop 4 - f\n",
    "loop 5 - b\n",
    "loop 6 - d"
   ]
  },
  {
   "cell_type": "code",
   "execution_count": 9,
   "id": "e926820c",
   "metadata": {},
   "outputs": [
    {
     "name": "stdout",
     "output_type": "stream",
     "text": [
      "[[1. 1. 1. 1. 1. 1. 1. 1. 1. 1.]\n",
      " [1. 1. 1. 1. 1. 1. 1. 1. 1. 0.]\n",
      " [1. 1. 1. 1. 1. 1. 1. 1. 0. 0.]\n",
      " [1. 1. 1. 1. 1. 1. 1. 0. 0. 0.]\n",
      " [1. 1. 1. 1. 1. 1. 0. 0. 0. 0.]\n",
      " [1. 1. 1. 1. 1. 0. 0. 0. 0. 0.]\n",
      " [1. 1. 1. 1. 0. 0. 0. 0. 0. 0.]\n",
      " [1. 1. 1. 0. 0. 0. 0. 0. 0. 0.]\n",
      " [1. 1. 0. 0. 0. 0. 0. 0. 0. 0.]\n",
      " [1. 0. 0. 0. 0. 0. 0. 0. 0. 0.]]\n"
     ]
    }
   ],
   "source": [
    "import numpy as np\n",
    "\n",
    "# A script for checking if I was right. I was.\n",
    "\n",
    "n = 10\n",
    "\n",
    "A = np.zeros((n,n))\n",
    "\n",
    "for i in range(n):\n",
    "    for j in range(n-i):\n",
    "        A[i,j] = 1\n",
    "print(A)\n",
    "\n"
   ]
  },
  {
   "cell_type": "markdown",
   "id": "92c5946c",
   "metadata": {},
   "source": [
    "22. Temperature distribution in a plate"
   ]
  },
  {
   "cell_type": "code",
   "execution_count": 27,
   "id": "9d831a78",
   "metadata": {},
   "outputs": [
    {
     "data": {
      "image/png": "[encoded data removed]",
      "text/plain": [
       "<Figure size 432x288 with 3 Axes>"
      ]
     },
     "metadata": {
      "needs_background": "light"
     },
     "output_type": "display_data"
    }
   ],
   "source": [
    "# A script that models the heat distribution ina  steel plate\n",
    "\n",
    "import numpy as np\n",
    "import matplotlib.pyplot as plt\n",
    "from copy import copy\n",
    "\n",
    "tol = 0.001 # The tolerance of the maximum temperature difference from\n",
    "# one iiteration to the next \n",
    "\n",
    "n = 50 # Size of matrix\n",
    "T0 = np.empty((n,n))\n",
    "\n",
    "# Average temperature:\n",
    "Tav = (100+200+200+300)/4\n",
    "T0[::,::] = Tav\n",
    "\n",
    "# Set the edges:\n",
    "T0[0,:] = 100\n",
    "T0[-1,:] = 200\n",
    "T0[:,0] = 300\n",
    "T0[:,-1] = 200\n",
    "\n",
    "# Make the corners an average of the adjoinging edges:\n",
    "T0[0,0] = 200\n",
    "T0[0,-1] = 250\n",
    "T0[-1,0] = 150\n",
    "\n",
    "# Copy of the original matrix, for comparison:\n",
    "T00 = copy(T0)\n",
    "T = copy(T0)\n",
    "\n",
    "# Original difference, just to get started.\n",
    "diff = np.inf\n",
    "\n",
    "while(diff>tol):\n",
    "    # Loop through all the inner elements, skip the edges:\n",
    "    for i in range(1,n-1):\n",
    "        for j in range(1,n-1):\n",
    "            # Calculate the new temp as the average of the neighbours:\n",
    "            T[i,j] = (T0[i+1,j]+T0[i-1,j]+T0[i,j+1]+T0[i,j-1])/4\n",
    "    # Calculate the difference. Takes the difference element wise\n",
    "    # and takes teh maximum value of that\n",
    "    diff = np.max(abs(T-T0))\n",
    "    # Copy the new temperature matrix and say it is the previous matrix\n",
    "    # it seems to just assign does not work well, then T and T0 become the same matrix.\n",
    "    T0 = copy(T)\n",
    "\n",
    "# Plot it:\n",
    "fig,ax = plt.subplots(1,2)\n",
    "original = ax[0].imshow(T00,cmap='hot')\n",
    "final = ax[1].imshow(T,cmap='hot')\n",
    "cbar = fig.colorbar(final)\n",
    "\n",
    "\n"
   ]
  },
  {
   "cell_type": "markdown",
   "id": "d7306f6d",
   "metadata": {},
   "source": [
    "23. Testing program\n",
    "\n",
    "a) We need to start with a large value so we don't risk that the program returns the initial guess. The elements in the vector could all be large.\n",
    "b) see code"
   ]
  },
  {
   "cell_type": "code",
   "execution_count": 2,
   "id": "edc1d468",
   "metadata": {},
   "outputs": [
    {
     "name": "stdout",
     "output_type": "stream",
     "text": [
      "Smallest -4\n",
      "Position 3\n",
      "largest 4\n",
      "Position 6\n"
     ]
    }
   ],
   "source": [
    "v = [1,-2,-3,-4,2,3,4]\n",
    "\n",
    "smallest = 1.e90 # Why start with large value?\n",
    "largest = -1.e90\n",
    "for i in range(len(v)):\n",
    "    if v[i] < smallest:\n",
    "        smallest = v[i]\n",
    "        pos = i\n",
    "    if v[i] > largest:\n",
    "        largest = v[i]\n",
    "        lpos = i\n",
    "    \n",
    "print(\"Smallest\",smallest)\n",
    "print(\"Position\",pos)\n",
    "print(\"largest\",largest)\n",
    "print(\"Position\",lpos)"
   ]
  },
  {
   "cell_type": "markdown",
   "id": "987182f9",
   "metadata": {},
   "source": [
    "23. c) & d)"
   ]
  },
  {
   "cell_type": "code",
   "execution_count": 32,
   "id": "5b5e31cb",
   "metadata": {},
   "outputs": [
    {
     "name": "stdout",
     "output_type": "stream",
     "text": [
      "largest 3.513226020970925\n",
      "Position (8, 10, 1)\n"
     ]
    }
   ],
   "source": [
    "import numpy as np\n",
    "\n",
    "m,n,p = 12,16,3\n",
    "\n",
    "A = np.random.default_rng().standard_normal((m,n,p))\n",
    "\n",
    "largest = -1.e90\n",
    "for i in range(m):\n",
    "    for j in range(n):\n",
    "        for k in range(p):\n",
    "            if A[i,j,k] > largest:\n",
    "                largest = A[i,j,k]\n",
    "                pos = (i,j,k)\n",
    "\n",
    "print(\"largest\",largest)\n",
    "print(\"Position\",pos)"
   ]
  },
  {
   "cell_type": "markdown",
   "id": "953fb10c",
   "metadata": {},
   "source": [
    "24. "
   ]
  },
  {
   "cell_type": "code",
   "execution_count": 38,
   "id": "7c6d1125",
   "metadata": {},
   "outputs": [
    {
     "data": {
      "text/plain": [
       "<matplotlib.image.AxesImage at 0x20e434d6548>"
      ]
     },
     "execution_count": 38,
     "metadata": {},
     "output_type": "execute_result"
    },
    {
     "data": {
      "image/png": "[encoded data removed]",
      "text/plain": [
       "<Figure size 432x288 with 2 Axes>"
      ]
     },
     "metadata": {
      "needs_background": "light"
     },
     "output_type": "display_data"
    }
   ],
   "source": [
    "import matplotlib.pyplot as plt\n",
    "from copy import copy\n",
    "\n",
    "CCD = np.loadtxt('Data/CCD.txt')\n",
    "CCD_new = copy(CCD) # Make a copy of the image to edit and keep the original unchanged\n",
    "\n",
    "# Plot to compare before and after:\n",
    "fig,ax = plt.subplots(1,2)\n",
    "ax[0].imshow(CCD,vmin=3,vmax=7,cmap='gray')\n",
    "\n",
    "# I chose to deal with the dimensions this way:\n",
    "dimx,dimy = np.shape(CCD)[0],np.shape(CCD)[1]\n",
    "\n",
    "for i in range(dimx):\n",
    "    for j in range(dimy):\n",
    "        if CCD[i,j] == 0:\n",
    "            # If the pixel is dead, replace with an average of all adjoining\n",
    "            # pixels, 8 in total.\n",
    "            CCD_new[i,j] = (CCD[i-1,j]+CCD[i+1,j]+CCD[i,j-1]+CCD[i,j-1]+\n",
    "                           CCD[i-1,j-1]+CCD[i+1,j-1]+CCD[i-1,j+1]+CCD[i+1,j+1])/8\n",
    "ax[1].imshow(CCD_new,vmin=3,vmax=7,cmap='gray')"
   ]
  },
  {
   "cell_type": "code",
   "execution_count": 57,
   "id": "73480e9c",
   "metadata": {},
   "outputs": [
    {
     "data": {
      "text/plain": [
       "(-0.5, 580.5, 399.5, -0.5)"
      ]
     },
     "execution_count": 57,
     "metadata": {},
     "output_type": "execute_result"
    },
    {
     "data": {
      "image/png": "[encoded data removed]",
      "text/plain": [
       "<Figure size 720x720 with 2 Axes>"
      ]
     },
     "metadata": {
      "needs_background": "light"
     },
     "output_type": "display_data"
    }
   ],
   "source": [
    "from PIL import Image\n",
    "\n",
    "image1 = Image.open(\"Data/01469.jpg\")\n",
    "imAr = np.array(image1)\n",
    "imAr2 = copy(imAr)\n",
    "\n",
    "dimx,dimy = np.shape(imAr)[0],np.shape(imAr)[1]\n",
    "\n",
    "t = 150\n",
    "\n",
    "for i in range(1,dimx-1):\n",
    "    for j in range(1,dimy-1):\n",
    "        Gx = ((imAr[i-1,j+1]+2*imAr[i-1,j]+imAr[i-1,j-1])-\n",
    "             (imAr[i+1,j-1]+2*imAr[i,j-1]+imAr[i+1,j-1]))\n",
    "        Gy = ((imAr[i-1,j+1]+2*imAr[i,j+1]+imAr[i+1,j+1])-\n",
    "             (imAr[i-1,j-1]+2*imAr[i,j-1]+imAr[i+1,j-1]))\n",
    "        G = np.sqrt(Gx**2+Gy**2)\n",
    "        if(G>t):\n",
    "            imAr2[i,j] = G\n",
    "        else:\n",
    "            imAr2[i,j] = 0\n",
    "    \n",
    "# Plot to compare before and after:\n",
    "fig,ax = plt.subplots(1,2,figsize=(10,10))\n",
    "ax[0].imshow(imAr,cmap='gray')\n",
    "ax[0].axis('off')\n",
    "ax[1].imshow(imAr2,cmap='gray')\n",
    "ax[1].axis('off')\n"
   ]
  },
  {
   "cell_type": "markdown",
   "id": "56c20c51",
   "metadata": {},
   "source": [
    "26. Using user defined functions"
   ]
  },
  {
   "cell_type": "code",
   "execution_count": 77,
   "id": "8f421321",
   "metadata": {},
   "outputs": [
    {
     "data": {
      "text/plain": [
       "<matplotlib.legend.Legend at 0x20e451b0f48>"
      ]
     },
     "execution_count": 77,
     "metadata": {},
     "output_type": "execute_result"
    },
    {
     "data": {
      "image/png": "[encoded data removed]",
      "text/plain": [
       "<Figure size 432x288 with 1 Axes>"
      ]
     },
     "metadata": {
      "needs_background": "light"
     },
     "output_type": "display_data"
    }
   ],
   "source": [
    "def expcalc(x):\n",
    "    \"\"\" Here is a function that calculates a Gaussian dist. \"\"\"\n",
    "    f = np.exp(-x**2)\n",
    "    return f\n",
    "\n",
    "x = np.linspace(-2,2,100)\n",
    "\n",
    "fig,ax = plt.subplots()\n",
    "ax.plot(x,expcalc(x),'r-',label='x')\n",
    "ax.plot(x,expcalc(x-1),'g--',label='x-1')\n",
    "ax.plot(x,expcalc(x+1),'b.',label='x+1')\n",
    "ax.legend()\n",
    "\n",
    "#expcalc?"
   ]
  },
  {
   "cell_type": "markdown",
   "id": "641b6cf2",
   "metadata": {},
   "source": [
    "27. function of a aquare pulse"
   ]
  },
  {
   "cell_type": "code",
   "execution_count": 72,
   "id": "0e902c17",
   "metadata": {},
   "outputs": [
    {
     "data": {
      "text/plain": [
       "[<matplotlib.lines.Line2D at 0x20e449f2488>]"
      ]
     },
     "execution_count": 72,
     "metadata": {},
     "output_type": "execute_result"
    },
    {
     "data": {
      "image/png": "[encoded data removed]",
      "text/plain": [
       "<Figure size 432x288 with 4 Axes>"
      ]
     },
     "metadata": {
      "needs_background": "light"
     },
     "output_type": "display_data"
    }
   ],
   "source": [
    "def sqP(n,t):\n",
    "    \"\"\" \n",
    "    returns a square pulse from a vector\n",
    "    input variables are number of terms n, and vector t\n",
    "    \"\"\"\n",
    "    Sn = 0\n",
    "    for i in range(1,n):\n",
    "        Sn += 2/(i*np.pi)*(1-(-1)**i)*np.sin(i*t)\n",
    "    return Sn\n",
    "\n",
    "#sqP?\n",
    "\n",
    "time = np.linspace(-np.pi,np.pi,100)\n",
    "\n",
    "fig,ax = plt.subplots(2,2)\n",
    "ax[0,0].plot(time,sqP(2,time))\n",
    "ax[0,1].plot(time,sqP(5,time))\n",
    "ax[1,0].plot(time,sqP(10,time))\n",
    "ax[1,1].plot(time,sqP(20,time))\n"
   ]
  },
  {
   "cell_type": "markdown",
   "id": "9ce24e66",
   "metadata": {},
   "source": [
    "28. Triange function"
   ]
  },
  {
   "cell_type": "code",
   "execution_count": 81,
   "id": "18ac8a69",
   "metadata": {},
   "outputs": [
    {
     "name": "stdout",
     "output_type": "stream",
     "text": [
      "1.0 0.9999999999999999\n"
     ]
    }
   ],
   "source": [
    "def TriF(a,b,alpha):\n",
    "    \"\"\"\n",
    "    Function that calculates the side of a triangle\n",
    "    \"\"\"\n",
    "    c = np.sqrt(a**2+b**2-2*a*b*np.cos(alpha))\n",
    "    return c\n",
    "\n",
    "c1 = TriF(np.sqrt(2),1,np.pi/4)\n",
    "c2 = TriF(1,1,np.pi/3)\n",
    "\n",
    "print(c1,c2)"
   ]
  },
  {
   "cell_type": "markdown",
   "id": "ad81c432",
   "metadata": {},
   "source": [
    "29. More triangles"
   ]
  },
  {
   "cell_type": "code",
   "execution_count": 91,
   "id": "725393b1",
   "metadata": {},
   "outputs": [
    {
     "name": "stdout",
     "output_type": "stream",
     "text": [
      "1 1\n",
      "(1.4142135623730951, 0.25000000000000006, 0.25000000000000006)\n",
      "100 1\n",
      "(100.00499987500625, 0.003182992764907026, 0.4968170072350918)\n"
     ]
    }
   ],
   "source": [
    "def Lcalc(x1,y1,x2,y2):\n",
    "    \"\"\"\n",
    "    Given two points, calculates the distance between them\n",
    "    and the angles of the triangle they form.\n",
    "    returns L, alpha, beta, in terms of pi radians\n",
    "    \"\"\"\n",
    "    # First, calculate the base anf height of the triangle:\n",
    "    base = np.abs(x2-x1)\n",
    "    height = np.abs(y2-y1)\n",
    "    # Pythagoras helps us with the length L:\n",
    "    L = np.sqrt(base**2+height**2)\n",
    "    # Get the angles with trigonometry:\n",
    "    alpha = np.arccos(base/L)\n",
    "    beta = np.arccos(height/L)\n",
    "    \n",
    "    return L,alpha/np.pi,beta/np.pi\n",
    "\n",
    "print(Lcalc(0,0,1,1))\n",
    "print(Lcalc(0,0,100,1))"
   ]
  },
  {
   "cell_type": "markdown",
   "id": "4e0a3175",
   "metadata": {},
   "source": [
    "30. Interpolation"
   ]
  },
  {
   "cell_type": "code",
   "execution_count": 109,
   "id": "e5609349",
   "metadata": {},
   "outputs": [
    {
     "name": "stdout",
     "output_type": "stream",
     "text": [
      "0.75\n",
      "Brinell hardness at 290N/mm2:  86.67500000000001\n",
      "Tensile strength is 335.000000 N/mm2 at HB 100\n"
     ]
    }
   ],
   "source": [
    "def interPol(x1,y1,x2,y2,x):\n",
    "    \"\"\"\n",
    "    Interpolates a line between points and gives y for x\n",
    "    \"\"\"\n",
    "    # Get slope:\n",
    "    k = (y2-y1)/(x2-x1)\n",
    "    # Get m:\n",
    "    # y1 = kx1 + m -> m = y1/kx1\n",
    "    m = y1-k*x1\n",
    "    y = k*x+m\n",
    "    return y\n",
    "\n",
    "yp = interPol(1,1,3,2,0.5)\n",
    "print(yp)\n",
    "\n",
    "# Sandvik\n",
    "# strength = 290 N/mm2\n",
    "# Brinell HB = ?\n",
    "\n",
    "HB = interPol(285,85.5,305,90.2,290)\n",
    "print('Brinell hardness at 290N/mm2: ',HB)\n",
    "\n",
    "# Brinell HB = 100\n",
    "# strength = ?\n",
    "st = interPol(95.0,320,105.0,350,100)\n",
    "\n",
    "print('Tensile strength is %f N/mm2 at HB 100' %st)\n"
   ]
  },
  {
   "cell_type": "markdown",
   "id": "4d770add",
   "metadata": {},
   "source": [
    "31. Rotation of ponts in plane"
   ]
  },
  {
   "cell_type": "code",
   "execution_count": 126,
   "id": "41801341",
   "metadata": {},
   "outputs": [
    {
     "data": {
      "text/plain": [
       "(-1.0999999999999999, 1.1, -0.11160254037844386, 2.343653347947321)"
      ]
     },
     "execution_count": 126,
     "metadata": {},
     "output_type": "execute_result"
    },
    {
     "data": {
      "image/png": "[encoded data removed]",
      "text/plain": [
       "<Figure size 432x288 with 1 Axes>"
      ]
     },
     "metadata": {
      "needs_background": "light"
     },
     "output_type": "display_data"
    }
   ],
   "source": [
    "def Rot(x,y,theta):\n",
    "    \"\"\"\n",
    "    takes x values and y values and rotates them in a plane \n",
    "    defined by the angle theta\n",
    "    \"\"\"\n",
    "    xx,yy = (x*np.cos(theta)-y*np.sin(theta),\n",
    "             x*np.sin(theta)+y*np.cos(theta))\n",
    "    return xx,yy\n",
    "# Make a number of points:\n",
    "x = np.array([0,1,1,0,0])\n",
    "y = np.array([0,0,2,2,0])\n",
    "\n",
    "theta = np.pi/6\n",
    "\n",
    "# Call function:\n",
    "xnew,ynew = Rot(x,y,theta)\n",
    "\n",
    "fig,ax = plt.subplots()\n",
    "ax.plot(x,y,'b.')\n",
    "ax.plot(xnew,ynew,'r.')\n",
    "ax.axis('equal')"
   ]
  },
  {
   "cell_type": "markdown",
   "id": "64d1cf26",
   "metadata": {},
   "source": [
    "32. Minimisation"
   ]
  },
  {
   "cell_type": "code",
   "execution_count": 149,
   "id": "0ff0410b",
   "metadata": {},
   "outputs": [
    {
     "name": "stdout",
     "output_type": "stream",
     "text": [
      "0.4987011284888829\n"
     ]
    },
    {
     "data": {
      "text/plain": [
       "[<matplotlib.lines.Line2D at 0x20e4692b948>]"
      ]
     },
     "execution_count": 149,
     "metadata": {},
     "output_type": "execute_result"
    },
    {
     "data": {
      "image/png": "[encoded data removed]",
      "text/plain": [
       "<Figure size 432x288 with 1 Axes>"
      ]
     },
     "metadata": {
      "needs_background": "light"
     },
     "output_type": "display_data"
    }
   ],
   "source": [
    "def minfin(f,a,b,tol=1.e-12):\n",
    "    \"\"\"\n",
    "    Finds the minimum of the function f in a range from\n",
    "    a to b within a tolerance tol\n",
    "    \"\"\"\n",
    "    \n",
    "    # Range:\n",
    "    span = b-a\n",
    "    \n",
    "    while(span>tol):\n",
    "        x1 = a+(b-a)/3\n",
    "        x2 = b-(b-a)/3\n",
    "        # if y is largest to the right, decrease right bound:\n",
    "        if f(x1)<=f(x2):\n",
    "            b = x2\n",
    "        # if y is largest to the left, decrease left bound:\n",
    "        elif f(x1)>f(x2):\n",
    "            a = x1\n",
    "        span = b-a # new span\n",
    "\n",
    "    return (a+b)/2\n",
    "\n",
    "x = np.linspace(-1,2,100)\n",
    "\n",
    "# Function to be minimised:\n",
    "trig = lambda xx: np.cos(xx+1)+xx**2\n",
    "\n",
    "minx2 = minfin(trig,-1,2)\n",
    "print(minx2)\n",
    "\n",
    "fig,ax = plt.subplots()\n",
    "ax.plot(x,trig(x))"
   ]
  },
  {
   "cell_type": "markdown",
   "id": "2e09f767",
   "metadata": {},
   "source": [
    "33. Calculating pi randomly"
   ]
  },
  {
   "cell_type": "code",
   "execution_count": 172,
   "id": "393126f1",
   "metadata": {},
   "outputs": [
    {
     "name": "stdout",
     "output_type": "stream",
     "text": [
      "Pi =  2.996\n",
      "Pi =  3.1536\n",
      "Pi =  3.14664\n",
      "Pi =  3.143556\n"
     ]
    }
   ],
   "source": [
    "def PiCalc(x,y,n):\n",
    "    \"\"\" Calculates pi using statistics \"\"\"\n",
    "    ontarget = 0\n",
    "    offtarget = 0\n",
    "    for i in range(int(n)):\n",
    "        # Claculate the distance of the point to the centre\n",
    "        # if it is less than 1, it is in the circle\n",
    "        dist = np.sqrt(x[i]**2+y[i]**2)\n",
    "        if(dist<=1):\n",
    "            ontarget += 1\n",
    "        else:\n",
    "            offtarget += 1\n",
    "    return 4*ontarget/n\n",
    "\n",
    "n = [1e3,1e4,1e5,1e6]\n",
    "\n",
    "for nn in n: \n",
    "    randxs = np.random.default_rng().random(int(nn))\n",
    "    randys = np.random.default_rng().random(int(nn))\n",
    "    Pi = PiCalc(randxs,randys,nn)\n",
    "    print('Pi = ',Pi)\n"
   ]
  },
  {
   "cell_type": "markdown",
   "id": "bc5c4670",
   "metadata": {},
   "source": [
    "34. Pythagorean means"
   ]
  },
  {
   "cell_type": "code",
   "execution_count": 4,
   "id": "8f3a2b68",
   "metadata": {},
   "outputs": [
    {
     "name": "stdout",
     "output_type": "stream",
     "text": [
      "9.0\n",
      "7.895021837442278\n",
      "6.671661091693872\n",
      "7.895021837442278\n"
     ]
    }
   ],
   "source": [
    "%reload_ext autoreload\n",
    "%autoreload 2\n",
    "\n",
    "import numpy as np\n",
    "import mean\n",
    "\n",
    "x = np.linspace(2,16,100)\n",
    "\n",
    "mean1 = mean.am(x)\n",
    "print(mean1)\n",
    "mean2 = mean.gm(x)\n",
    "print(mean2)\n",
    "mean3 = mean.hm(x)\n",
    "print(mean3)"
   ]
  },
  {
   "cell_type": "code",
   "execution_count": null,
   "id": "611421bb",
   "metadata": {},
   "outputs": [],
   "source": []
  }
 ],
 "metadata": {
  "kernelspec": {
   "display_name": "Python 3 (ipykernel)",
   "language": "python",
   "name": "python3"
  },
  "language_info": {
   "codemirror_mode": {
    "name": "ipython",
    "version": 3
   },
   "file_extension": ".py",
   "mimetype": "text/x-python",
   "name": "python",
   "nbconvert_exporter": "python",
   "pygments_lexer": "ipython3",
   "version": "3.7.11"
  }
 },
 "nbformat": 4,
 "nbformat_minor": 5
}
